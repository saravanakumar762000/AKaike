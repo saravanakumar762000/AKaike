{
 "cells": [
  {
   "cell_type": "code",
   "execution_count": 2,
   "id": "67897333",
   "metadata": {},
   "outputs": [],
   "source": [
    "import pandas as pd\n",
    "import numpy as np\n",
    "import seaborn as sns\n",
    "import matplotlib.pyplot as plt\n",
    "from sklearn.model_selection import train_test_split\n",
    "from sklearn.preprocessing import LabelBinarizer\n",
    "from sklearn.tree import DecisionTreeClassifier\n",
    "from sklearn.metrics import accuracy_score, confusion_matrix\n",
    "from sklearn.linear_model import LogisticRegression\n",
    "from sklearn.metrics import accuracy_score, confusion_matrix, f1_score\n",
    "from datetime import datetime, timedelta\n"
   ]
  },
  {
   "cell_type": "code",
   "execution_count": 3,
   "id": "55bc4132",
   "metadata": {},
   "outputs": [],
   "source": [
    "# read the train and test data\n",
    "train_df = pd.read_parquet(\"train.parquet\")\n",
    "test_df = pd.read_parquet(\"test.parquet\")\n"
   ]
  },
  {
   "cell_type": "code",
   "execution_count": 4,
   "id": "3ecabd07",
   "metadata": {},
   "outputs": [
    {
     "data": {
      "text/html": [
       "<div>\n",
       "<style scoped>\n",
       "    .dataframe tbody tr th:only-of-type {\n",
       "        vertical-align: middle;\n",
       "    }\n",
       "\n",
       "    .dataframe tbody tr th {\n",
       "        vertical-align: top;\n",
       "    }\n",
       "\n",
       "    .dataframe thead th {\n",
       "        text-align: right;\n",
       "    }\n",
       "</style>\n",
       "<table border=\"1\" class=\"dataframe\">\n",
       "  <thead>\n",
       "    <tr style=\"text-align: right;\">\n",
       "      <th></th>\n",
       "      <th>Date</th>\n",
       "      <th>Incident</th>\n",
       "    </tr>\n",
       "    <tr>\n",
       "      <th>Patient-Uid</th>\n",
       "      <th></th>\n",
       "      <th></th>\n",
       "    </tr>\n",
       "  </thead>\n",
       "  <tbody>\n",
       "    <tr>\n",
       "      <th>a0f9e8a9-1c7c-11ec-8d25-16262ee38c7f</th>\n",
       "      <td>2019-05-21</td>\n",
       "      <td>TEST_TYPE_0</td>\n",
       "    </tr>\n",
       "    <tr>\n",
       "      <th>a0f9e9f9-1c7c-11ec-b565-16262ee38c7f</th>\n",
       "      <td>2019-10-23</td>\n",
       "      <td>TEST_TYPE_3</td>\n",
       "    </tr>\n",
       "    <tr>\n",
       "      <th>a0f9ea43-1c7c-11ec-aa10-16262ee38c7f</th>\n",
       "      <td>2019-10-21</td>\n",
       "      <td>TEST_TYPE_1</td>\n",
       "    </tr>\n",
       "    <tr>\n",
       "      <th>a0f9ea7c-1c7c-11ec-af15-16262ee38c7f</th>\n",
       "      <td>2020-03-21</td>\n",
       "      <td>TEST_TYPE_0</td>\n",
       "    </tr>\n",
       "    <tr>\n",
       "      <th>a0f9eab1-1c7c-11ec-a732-16262ee38c7f</th>\n",
       "      <td>2019-11-09</td>\n",
       "      <td>SYMPTOM_TYPE_3</td>\n",
       "    </tr>\n",
       "    <tr>\n",
       "      <th>...</th>\n",
       "      <td>...</td>\n",
       "      <td>...</td>\n",
       "    </tr>\n",
       "    <tr>\n",
       "      <th>a102720c-1c7c-11ec-bd9a-16262ee38c7f</th>\n",
       "      <td>2020-03-24</td>\n",
       "      <td>DRUG_TYPE_7</td>\n",
       "    </tr>\n",
       "    <tr>\n",
       "      <th>a102723c-1c7c-11ec-9f80-16262ee38c7f</th>\n",
       "      <td>2019-07-06</td>\n",
       "      <td>DRUG_TYPE_8</td>\n",
       "    </tr>\n",
       "    <tr>\n",
       "      <th>a102726b-1c7c-11ec-bfbf-16262ee38c7f</th>\n",
       "      <td>2020-01-02</td>\n",
       "      <td>DRUG_TYPE_7</td>\n",
       "    </tr>\n",
       "    <tr>\n",
       "      <th>a102729b-1c7c-11ec-86ba-16262ee38c7f</th>\n",
       "      <td>2019-04-21</td>\n",
       "      <td>DRUG_TYPE_7</td>\n",
       "    </tr>\n",
       "    <tr>\n",
       "      <th>a10272c9-1c7c-11ec-b3ce-16262ee38c7f</th>\n",
       "      <td>2019-03-06</td>\n",
       "      <td>PRIMARY_DIAGNOSIS</td>\n",
       "    </tr>\n",
       "  </tbody>\n",
       "</table>\n",
       "<p>11482 rows × 2 columns</p>\n",
       "</div>"
      ],
      "text/plain": [
       "                                           Date           Incident\n",
       "Patient-Uid                                                       \n",
       "a0f9e8a9-1c7c-11ec-8d25-16262ee38c7f 2019-05-21        TEST_TYPE_0\n",
       "a0f9e9f9-1c7c-11ec-b565-16262ee38c7f 2019-10-23        TEST_TYPE_3\n",
       "a0f9ea43-1c7c-11ec-aa10-16262ee38c7f 2019-10-21        TEST_TYPE_1\n",
       "a0f9ea7c-1c7c-11ec-af15-16262ee38c7f 2020-03-21        TEST_TYPE_0\n",
       "a0f9eab1-1c7c-11ec-a732-16262ee38c7f 2019-11-09     SYMPTOM_TYPE_3\n",
       "...                                         ...                ...\n",
       "a102720c-1c7c-11ec-bd9a-16262ee38c7f 2020-03-24        DRUG_TYPE_7\n",
       "a102723c-1c7c-11ec-9f80-16262ee38c7f 2019-07-06        DRUG_TYPE_8\n",
       "a102726b-1c7c-11ec-bfbf-16262ee38c7f 2020-01-02        DRUG_TYPE_7\n",
       "a102729b-1c7c-11ec-86ba-16262ee38c7f 2019-04-21        DRUG_TYPE_7\n",
       "a10272c9-1c7c-11ec-b3ce-16262ee38c7f 2019-03-06  PRIMARY_DIAGNOSIS\n",
       "\n",
       "[11482 rows x 2 columns]"
      ]
     },
     "execution_count": 4,
     "metadata": {},
     "output_type": "execute_result"
    }
   ],
   "source": [
    "train_df.groupby('Patient-Uid').max()\n",
    "test_df.groupby('Patient-Uid').max()"
   ]
  },
  {
   "cell_type": "code",
   "execution_count": 5,
   "id": "c078bbea",
   "metadata": {},
   "outputs": [],
   "source": [
    "train_df.sort_values(by = ['Date'], inplace=True)\n",
    "test_df.sort_values(by = ['Date'], inplace=True)"
   ]
  },
  {
   "cell_type": "code",
   "execution_count": 147,
   "id": "56640a80",
   "metadata": {},
   "outputs": [],
   "source": [
    "# create a positive and negative set for developing the model\n",
    "positive_df = train_df.loc[train_df[\"Incident\"] == \"TARGET DRUG\"].copy()\n",
    "negative_df = train_df.loc[train_df[\"Incident\"] != \"TARGET DRUG\"].copy()"
   ]
  },
  {
   "cell_type": "code",
   "execution_count": 174,
   "id": "887b9076",
   "metadata": {},
   "outputs": [],
   "source": [
    "# calculate the date range for the validation set\n",
    "start_date = positive_df[\"Date\"].max()\n",
    "end_date = start_date + pd.Timedelta(days=30)\n"
   ]
  },
  {
   "cell_type": "code",
   "execution_count": 175,
   "id": "adec7967",
   "metadata": {},
   "outputs": [],
   "source": [
    "# select patients in the future for the validation set\n",
    "future_df = train_df.loc[train_df[\"Date\"] >= start_date]\n"
   ]
  },
  {
   "cell_type": "code",
   "execution_count": 176,
   "id": "43e1654f",
   "metadata": {},
   "outputs": [
    {
     "name": "stderr",
     "output_type": "stream",
     "text": [
      "C:\\TEMP\\ipykernel_9052\\563105102.py:1: SettingWithCopyWarning: \n",
      "A value is trying to be set on a copy of a slice from a DataFrame.\n",
      "Try using .loc[row_indexer,col_indexer] = value instead\n",
      "\n",
      "See the caveats in the documentation: https://pandas.pydata.org/pandas-docs/stable/user_guide/indexing.html#returning-a-view-versus-a-copy\n",
      "  future_df[\"Target_Drug_Taken\"] = future_df.groupby(\"Patient-Uid\")[\"Incident\"].transform(\n"
     ]
    }
   ],
   "source": [
    "future_df[\"Target_Drug_Taken\"] = future_df.groupby(\"Patient-Uid\")[\"Incident\"].transform(\n",
    "    lambda x: \"TARGET DRUG\" in x.tolist()\n",
    ").astype(int)"
   ]
  },
  {
   "cell_type": "code",
   "execution_count": 177,
   "id": "46cd2580",
   "metadata": {},
   "outputs": [],
   "source": [
    "# balance the data\n",
    "num_positive_samples = positive_df.shape[0]\n",
    "negative_df_sampled = negative_df.sample(num_positive_samples, random_state=42)\n",
    "merged_df = pd.concat([positive_df, negative_df_sampled], ignore_index=True)\n"
   ]
  },
  {
   "cell_type": "code",
   "execution_count": 178,
   "id": "f2d021cd",
   "metadata": {},
   "outputs": [
    {
     "data": {
      "text/html": [
       "<div>\n",
       "<style scoped>\n",
       "    .dataframe tbody tr th:only-of-type {\n",
       "        vertical-align: middle;\n",
       "    }\n",
       "\n",
       "    .dataframe tbody tr th {\n",
       "        vertical-align: top;\n",
       "    }\n",
       "\n",
       "    .dataframe thead th {\n",
       "        text-align: right;\n",
       "    }\n",
       "</style>\n",
       "<table border=\"1\" class=\"dataframe\">\n",
       "  <thead>\n",
       "    <tr style=\"text-align: right;\">\n",
       "      <th></th>\n",
       "      <th>Patient-Uid</th>\n",
       "      <th>Date</th>\n",
       "      <th>Incident</th>\n",
       "    </tr>\n",
       "  </thead>\n",
       "  <tbody>\n",
       "    <tr>\n",
       "      <th>0</th>\n",
       "      <td>a0eb742b-1c7c-11ec-8f61-16262ee38c7f</td>\n",
       "      <td>2020-04-09</td>\n",
       "      <td>TARGET DRUG</td>\n",
       "    </tr>\n",
       "    <tr>\n",
       "      <th>1</th>\n",
       "      <td>a0edaf09-1c7c-11ec-a360-16262ee38c7f</td>\n",
       "      <td>2018-06-12</td>\n",
       "      <td>TARGET DRUG</td>\n",
       "    </tr>\n",
       "    <tr>\n",
       "      <th>2</th>\n",
       "      <td>a0e9fa0e-1c7c-11ec-8dc7-16262ee38c7f</td>\n",
       "      <td>2019-06-11</td>\n",
       "      <td>TARGET DRUG</td>\n",
       "    </tr>\n",
       "    <tr>\n",
       "      <th>3</th>\n",
       "      <td>a0ecc615-1c7c-11ec-aa31-16262ee38c7f</td>\n",
       "      <td>2019-11-15</td>\n",
       "      <td>TARGET DRUG</td>\n",
       "    </tr>\n",
       "    <tr>\n",
       "      <th>4</th>\n",
       "      <td>a0ea612f-1c7c-11ec-8cf0-16262ee38c7f</td>\n",
       "      <td>2020-03-18</td>\n",
       "      <td>TARGET DRUG</td>\n",
       "    </tr>\n",
       "  </tbody>\n",
       "</table>\n",
       "</div>"
      ],
      "text/plain": [
       "                            Patient-Uid       Date     Incident\n",
       "0  a0eb742b-1c7c-11ec-8f61-16262ee38c7f 2020-04-09  TARGET DRUG\n",
       "1  a0edaf09-1c7c-11ec-a360-16262ee38c7f 2018-06-12  TARGET DRUG\n",
       "2  a0e9fa0e-1c7c-11ec-8dc7-16262ee38c7f 2019-06-11  TARGET DRUG\n",
       "3  a0ecc615-1c7c-11ec-aa31-16262ee38c7f 2019-11-15  TARGET DRUG\n",
       "4  a0ea612f-1c7c-11ec-8cf0-16262ee38c7f 2020-03-18  TARGET DRUG"
      ]
     },
     "execution_count": 178,
     "metadata": {},
     "output_type": "execute_result"
    }
   ],
   "source": [
    "merged_df.head(5)"
   ]
  },
  {
   "cell_type": "code",
   "execution_count": 179,
   "id": "9a7a5e8f",
   "metadata": {},
   "outputs": [],
   "source": [
    "# create a column for the number of days since the last visit for each patient\n",
    "merged_df[\"Days_Since_Last_Visit\"] = merged_df.groupby(\"Patient-Uid\")[\"Date\"].diff().dt.days\n",
    "merged_df[\"Days_Since_Last_Visit\"].fillna(0, inplace=True)\n",
    "# create a column for the number of days until the next visit for each patient\n",
    "merged_df[\"Days_Until_Next_Visit\"] = merged_df.groupby(\"Patient-Uid\")[\"Date\"].diff(-1).dt.days\n",
    "merged_df[\"Days_Until_Next_Visit\"].fillna(0, inplace=True)\n",
    "# create a column for the number of visits for each patient\n",
    "merged_df[\"Num_Visits\"] = merged_df.groupby(\"Patient-Uid\")[\"Date\"].transform(\"count\")\n",
    "\n",
    "# create a column for the number of visits in the last 30 days for each patient\n",
    "merged_df[\"Visits_Last_30_Days\"] = merged_df.groupby(\"Patient-Uid\")[\"Date\"].transform(\n",
    "    lambda x: ((x.max() - x) < pd.Timedelta(days=30)).sum()\n",
    ")\n",
    "\n"
   ]
  },
  {
   "cell_type": "code",
   "execution_count": 180,
   "id": "038d85ed",
   "metadata": {},
   "outputs": [
    {
     "data": {
      "text/html": [
       "<div>\n",
       "<style scoped>\n",
       "    .dataframe tbody tr th:only-of-type {\n",
       "        vertical-align: middle;\n",
       "    }\n",
       "\n",
       "    .dataframe tbody tr th {\n",
       "        vertical-align: top;\n",
       "    }\n",
       "\n",
       "    .dataframe thead th {\n",
       "        text-align: right;\n",
       "    }\n",
       "</style>\n",
       "<table border=\"1\" class=\"dataframe\">\n",
       "  <thead>\n",
       "    <tr style=\"text-align: right;\">\n",
       "      <th></th>\n",
       "      <th>Patient-Uid</th>\n",
       "      <th>Date</th>\n",
       "      <th>Incident</th>\n",
       "      <th>Days_Since_Last_Visit</th>\n",
       "      <th>Days_Until_Next_Visit</th>\n",
       "      <th>Num_Visits</th>\n",
       "      <th>Visits_Last_30_Days</th>\n",
       "    </tr>\n",
       "  </thead>\n",
       "  <tbody>\n",
       "    <tr>\n",
       "      <th>0</th>\n",
       "      <td>a0eb742b-1c7c-11ec-8f61-16262ee38c7f</td>\n",
       "      <td>2020-04-09</td>\n",
       "      <td>TARGET DRUG</td>\n",
       "      <td>0.0</td>\n",
       "      <td>455.0</td>\n",
       "      <td>15</td>\n",
       "      <td>1</td>\n",
       "    </tr>\n",
       "    <tr>\n",
       "      <th>1</th>\n",
       "      <td>a0edaf09-1c7c-11ec-a360-16262ee38c7f</td>\n",
       "      <td>2018-06-12</td>\n",
       "      <td>TARGET DRUG</td>\n",
       "      <td>0.0</td>\n",
       "      <td>-424.0</td>\n",
       "      <td>20</td>\n",
       "      <td>1</td>\n",
       "    </tr>\n",
       "    <tr>\n",
       "      <th>2</th>\n",
       "      <td>a0e9fa0e-1c7c-11ec-8dc7-16262ee38c7f</td>\n",
       "      <td>2019-06-11</td>\n",
       "      <td>TARGET DRUG</td>\n",
       "      <td>0.0</td>\n",
       "      <td>-142.0</td>\n",
       "      <td>13</td>\n",
       "      <td>3</td>\n",
       "    </tr>\n",
       "    <tr>\n",
       "      <th>3</th>\n",
       "      <td>a0ecc615-1c7c-11ec-aa31-16262ee38c7f</td>\n",
       "      <td>2019-11-15</td>\n",
       "      <td>TARGET DRUG</td>\n",
       "      <td>0.0</td>\n",
       "      <td>-288.0</td>\n",
       "      <td>18</td>\n",
       "      <td>1</td>\n",
       "    </tr>\n",
       "    <tr>\n",
       "      <th>4</th>\n",
       "      <td>a0ea612f-1c7c-11ec-8cf0-16262ee38c7f</td>\n",
       "      <td>2020-03-18</td>\n",
       "      <td>TARGET DRUG</td>\n",
       "      <td>0.0</td>\n",
       "      <td>36.0</td>\n",
       "      <td>8</td>\n",
       "      <td>1</td>\n",
       "    </tr>\n",
       "  </tbody>\n",
       "</table>\n",
       "</div>"
      ],
      "text/plain": [
       "                            Patient-Uid       Date     Incident  \\\n",
       "0  a0eb742b-1c7c-11ec-8f61-16262ee38c7f 2020-04-09  TARGET DRUG   \n",
       "1  a0edaf09-1c7c-11ec-a360-16262ee38c7f 2018-06-12  TARGET DRUG   \n",
       "2  a0e9fa0e-1c7c-11ec-8dc7-16262ee38c7f 2019-06-11  TARGET DRUG   \n",
       "3  a0ecc615-1c7c-11ec-aa31-16262ee38c7f 2019-11-15  TARGET DRUG   \n",
       "4  a0ea612f-1c7c-11ec-8cf0-16262ee38c7f 2020-03-18  TARGET DRUG   \n",
       "\n",
       "   Days_Since_Last_Visit  Days_Until_Next_Visit  Num_Visits  \\\n",
       "0                    0.0                  455.0          15   \n",
       "1                    0.0                 -424.0          20   \n",
       "2                    0.0                 -142.0          13   \n",
       "3                    0.0                 -288.0          18   \n",
       "4                    0.0                   36.0           8   \n",
       "\n",
       "   Visits_Last_30_Days  \n",
       "0                    1  \n",
       "1                    1  \n",
       "2                    3  \n",
       "3                    1  \n",
       "4                    1  "
      ]
     },
     "execution_count": 180,
     "metadata": {},
     "output_type": "execute_result"
    }
   ],
   "source": [
    "merged_df.head(5)"
   ]
  },
  {
   "cell_type": "code",
   "execution_count": 181,
   "id": "15e9617a",
   "metadata": {},
   "outputs": [],
   "source": [
    "# split the data into training and validation sets\n",
    "train_df, val_df = train_test_split(merged_df, test_size=0.2, random_state=42)\n",
    "\n"
   ]
  },
  {
   "cell_type": "code",
   "execution_count": 182,
   "id": "4df98e9d",
   "metadata": {},
   "outputs": [
    {
     "data": {
      "text/html": [
       "<div>\n",
       "<style scoped>\n",
       "    .dataframe tbody tr th:only-of-type {\n",
       "        vertical-align: middle;\n",
       "    }\n",
       "\n",
       "    .dataframe tbody tr th {\n",
       "        vertical-align: top;\n",
       "    }\n",
       "\n",
       "    .dataframe thead th {\n",
       "        text-align: right;\n",
       "    }\n",
       "</style>\n",
       "<table border=\"1\" class=\"dataframe\">\n",
       "  <thead>\n",
       "    <tr style=\"text-align: right;\">\n",
       "      <th></th>\n",
       "      <th>Patient-Uid</th>\n",
       "      <th>Date</th>\n",
       "      <th>Incident</th>\n",
       "      <th>Days_Since_Last_Visit</th>\n",
       "      <th>Days_Until_Next_Visit</th>\n",
       "      <th>Num_Visits</th>\n",
       "      <th>Visits_Last_30_Days</th>\n",
       "    </tr>\n",
       "  </thead>\n",
       "  <tbody>\n",
       "    <tr>\n",
       "      <th>0</th>\n",
       "      <td>a0eb742b-1c7c-11ec-8f61-16262ee38c7f</td>\n",
       "      <td>2020-04-09</td>\n",
       "      <td>TARGET DRUG</td>\n",
       "      <td>0.0</td>\n",
       "      <td>455.0</td>\n",
       "      <td>15</td>\n",
       "      <td>1</td>\n",
       "    </tr>\n",
       "    <tr>\n",
       "      <th>1</th>\n",
       "      <td>a0edaf09-1c7c-11ec-a360-16262ee38c7f</td>\n",
       "      <td>2018-06-12</td>\n",
       "      <td>TARGET DRUG</td>\n",
       "      <td>0.0</td>\n",
       "      <td>-424.0</td>\n",
       "      <td>20</td>\n",
       "      <td>1</td>\n",
       "    </tr>\n",
       "    <tr>\n",
       "      <th>2</th>\n",
       "      <td>a0e9fa0e-1c7c-11ec-8dc7-16262ee38c7f</td>\n",
       "      <td>2019-06-11</td>\n",
       "      <td>TARGET DRUG</td>\n",
       "      <td>0.0</td>\n",
       "      <td>-142.0</td>\n",
       "      <td>13</td>\n",
       "      <td>3</td>\n",
       "    </tr>\n",
       "    <tr>\n",
       "      <th>3</th>\n",
       "      <td>a0ecc615-1c7c-11ec-aa31-16262ee38c7f</td>\n",
       "      <td>2019-11-15</td>\n",
       "      <td>TARGET DRUG</td>\n",
       "      <td>0.0</td>\n",
       "      <td>-288.0</td>\n",
       "      <td>18</td>\n",
       "      <td>1</td>\n",
       "    </tr>\n",
       "    <tr>\n",
       "      <th>4</th>\n",
       "      <td>a0ea612f-1c7c-11ec-8cf0-16262ee38c7f</td>\n",
       "      <td>2020-03-18</td>\n",
       "      <td>TARGET DRUG</td>\n",
       "      <td>0.0</td>\n",
       "      <td>36.0</td>\n",
       "      <td>8</td>\n",
       "      <td>1</td>\n",
       "    </tr>\n",
       "  </tbody>\n",
       "</table>\n",
       "</div>"
      ],
      "text/plain": [
       "                            Patient-Uid       Date     Incident  \\\n",
       "0  a0eb742b-1c7c-11ec-8f61-16262ee38c7f 2020-04-09  TARGET DRUG   \n",
       "1  a0edaf09-1c7c-11ec-a360-16262ee38c7f 2018-06-12  TARGET DRUG   \n",
       "2  a0e9fa0e-1c7c-11ec-8dc7-16262ee38c7f 2019-06-11  TARGET DRUG   \n",
       "3  a0ecc615-1c7c-11ec-aa31-16262ee38c7f 2019-11-15  TARGET DRUG   \n",
       "4  a0ea612f-1c7c-11ec-8cf0-16262ee38c7f 2020-03-18  TARGET DRUG   \n",
       "\n",
       "   Days_Since_Last_Visit  Days_Until_Next_Visit  Num_Visits  \\\n",
       "0                    0.0                  455.0          15   \n",
       "1                    0.0                 -424.0          20   \n",
       "2                    0.0                 -142.0          13   \n",
       "3                    0.0                 -288.0          18   \n",
       "4                    0.0                   36.0           8   \n",
       "\n",
       "   Visits_Last_30_Days  \n",
       "0                    1  \n",
       "1                    1  \n",
       "2                    3  \n",
       "3                    1  \n",
       "4                    1  "
      ]
     },
     "execution_count": 182,
     "metadata": {},
     "output_type": "execute_result"
    }
   ],
   "source": [
    "merged_df.head(5)"
   ]
  },
  {
   "cell_type": "code",
   "execution_count": 183,
   "id": "aa599a4d",
   "metadata": {},
   "outputs": [],
   "source": [
    "features=[\"Days_Since_Last_Visit\", \"Num_Visits\",\"Days_Until_Next_Visit\",\"Visits_Last_30_Days\"]\n",
    "target=[\"Incident\"]"
   ]
  },
  {
   "cell_type": "code",
   "execution_count": 184,
   "id": "6ec8791c",
   "metadata": {},
   "outputs": [
    {
     "data": {
      "text/html": [
       "<div>\n",
       "<style scoped>\n",
       "    .dataframe tbody tr th:only-of-type {\n",
       "        vertical-align: middle;\n",
       "    }\n",
       "\n",
       "    .dataframe tbody tr th {\n",
       "        vertical-align: top;\n",
       "    }\n",
       "\n",
       "    .dataframe thead th {\n",
       "        text-align: right;\n",
       "    }\n",
       "</style>\n",
       "<table border=\"1\" class=\"dataframe\">\n",
       "  <thead>\n",
       "    <tr style=\"text-align: right;\">\n",
       "      <th></th>\n",
       "      <th>Patient-Uid</th>\n",
       "      <th>Date</th>\n",
       "      <th>Incident</th>\n",
       "      <th>Days_Since_Last_Visit</th>\n",
       "      <th>Days_Until_Next_Visit</th>\n",
       "      <th>Num_Visits</th>\n",
       "      <th>Visits_Last_30_Days</th>\n",
       "    </tr>\n",
       "  </thead>\n",
       "  <tbody>\n",
       "    <tr>\n",
       "      <th>38308</th>\n",
       "      <td>a0eafe81-1c7c-11ec-8a01-16262ee38c7f</td>\n",
       "      <td>2018-11-06</td>\n",
       "      <td>TARGET DRUG</td>\n",
       "      <td>96.0</td>\n",
       "      <td>64.0</td>\n",
       "      <td>11</td>\n",
       "      <td>1</td>\n",
       "    </tr>\n",
       "    <tr>\n",
       "      <th>28073</th>\n",
       "      <td>a0ecd811-1c7c-11ec-8e8c-16262ee38c7f</td>\n",
       "      <td>2019-06-01</td>\n",
       "      <td>TARGET DRUG</td>\n",
       "      <td>350.0</td>\n",
       "      <td>41.0</td>\n",
       "      <td>13</td>\n",
       "      <td>1</td>\n",
       "    </tr>\n",
       "    <tr>\n",
       "      <th>122708</th>\n",
       "      <td>a0e1c371-1c7c-11ec-8f81-16262ee38c7f</td>\n",
       "      <td>2019-05-11</td>\n",
       "      <td>DRUG_TYPE_1</td>\n",
       "      <td>0.0</td>\n",
       "      <td>0.0</td>\n",
       "      <td>1</td>\n",
       "      <td>1</td>\n",
       "    </tr>\n",
       "    <tr>\n",
       "      <th>122683</th>\n",
       "      <td>a0efd47f-1c7c-11ec-90f6-16262ee38c7f</td>\n",
       "      <td>2019-01-16</td>\n",
       "      <td>DRUG_TYPE_12</td>\n",
       "      <td>959.0</td>\n",
       "      <td>1063.0</td>\n",
       "      <td>15</td>\n",
       "      <td>3</td>\n",
       "    </tr>\n",
       "    <tr>\n",
       "      <th>93006</th>\n",
       "      <td>a0eb0674-1c7c-11ec-8874-16262ee38c7f</td>\n",
       "      <td>2019-03-12</td>\n",
       "      <td>DRUG_TYPE_6</td>\n",
       "      <td>286.0</td>\n",
       "      <td>507.0</td>\n",
       "      <td>9</td>\n",
       "      <td>1</td>\n",
       "    </tr>\n",
       "  </tbody>\n",
       "</table>\n",
       "</div>"
      ],
      "text/plain": [
       "                                 Patient-Uid       Date      Incident  \\\n",
       "38308   a0eafe81-1c7c-11ec-8a01-16262ee38c7f 2018-11-06   TARGET DRUG   \n",
       "28073   a0ecd811-1c7c-11ec-8e8c-16262ee38c7f 2019-06-01   TARGET DRUG   \n",
       "122708  a0e1c371-1c7c-11ec-8f81-16262ee38c7f 2019-05-11   DRUG_TYPE_1   \n",
       "122683  a0efd47f-1c7c-11ec-90f6-16262ee38c7f 2019-01-16  DRUG_TYPE_12   \n",
       "93006   a0eb0674-1c7c-11ec-8874-16262ee38c7f 2019-03-12   DRUG_TYPE_6   \n",
       "\n",
       "        Days_Since_Last_Visit  Days_Until_Next_Visit  Num_Visits  \\\n",
       "38308                    96.0                   64.0          11   \n",
       "28073                   350.0                   41.0          13   \n",
       "122708                    0.0                    0.0           1   \n",
       "122683                  959.0                 1063.0          15   \n",
       "93006                   286.0                  507.0           9   \n",
       "\n",
       "        Visits_Last_30_Days  \n",
       "38308                     1  \n",
       "28073                     1  \n",
       "122708                    1  \n",
       "122683                    3  \n",
       "93006                     1  "
      ]
     },
     "execution_count": 184,
     "metadata": {},
     "output_type": "execute_result"
    }
   ],
   "source": [
    "train_df.head(5)"
   ]
  },
  {
   "cell_type": "code",
   "execution_count": 185,
   "id": "0c291104",
   "metadata": {},
   "outputs": [
    {
     "data": {
      "text/html": [
       "<style>#sk-container-id-16 {color: black;background-color: white;}#sk-container-id-16 pre{padding: 0;}#sk-container-id-16 div.sk-toggleable {background-color: white;}#sk-container-id-16 label.sk-toggleable__label {cursor: pointer;display: block;width: 100%;margin-bottom: 0;padding: 0.3em;box-sizing: border-box;text-align: center;}#sk-container-id-16 label.sk-toggleable__label-arrow:before {content: \"▸\";float: left;margin-right: 0.25em;color: #696969;}#sk-container-id-16 label.sk-toggleable__label-arrow:hover:before {color: black;}#sk-container-id-16 div.sk-estimator:hover label.sk-toggleable__label-arrow:before {color: black;}#sk-container-id-16 div.sk-toggleable__content {max-height: 0;max-width: 0;overflow: hidden;text-align: left;background-color: #f0f8ff;}#sk-container-id-16 div.sk-toggleable__content pre {margin: 0.2em;color: black;border-radius: 0.25em;background-color: #f0f8ff;}#sk-container-id-16 input.sk-toggleable__control:checked~div.sk-toggleable__content {max-height: 200px;max-width: 100%;overflow: auto;}#sk-container-id-16 input.sk-toggleable__control:checked~label.sk-toggleable__label-arrow:before {content: \"▾\";}#sk-container-id-16 div.sk-estimator input.sk-toggleable__control:checked~label.sk-toggleable__label {background-color: #d4ebff;}#sk-container-id-16 div.sk-label input.sk-toggleable__control:checked~label.sk-toggleable__label {background-color: #d4ebff;}#sk-container-id-16 input.sk-hidden--visually {border: 0;clip: rect(1px 1px 1px 1px);clip: rect(1px, 1px, 1px, 1px);height: 1px;margin: -1px;overflow: hidden;padding: 0;position: absolute;width: 1px;}#sk-container-id-16 div.sk-estimator {font-family: monospace;background-color: #f0f8ff;border: 1px dotted black;border-radius: 0.25em;box-sizing: border-box;margin-bottom: 0.5em;}#sk-container-id-16 div.sk-estimator:hover {background-color: #d4ebff;}#sk-container-id-16 div.sk-parallel-item::after {content: \"\";width: 100%;border-bottom: 1px solid gray;flex-grow: 1;}#sk-container-id-16 div.sk-label:hover label.sk-toggleable__label {background-color: #d4ebff;}#sk-container-id-16 div.sk-serial::before {content: \"\";position: absolute;border-left: 1px solid gray;box-sizing: border-box;top: 0;bottom: 0;left: 50%;z-index: 0;}#sk-container-id-16 div.sk-serial {display: flex;flex-direction: column;align-items: center;background-color: white;padding-right: 0.2em;padding-left: 0.2em;position: relative;}#sk-container-id-16 div.sk-item {position: relative;z-index: 1;}#sk-container-id-16 div.sk-parallel {display: flex;align-items: stretch;justify-content: center;background-color: white;position: relative;}#sk-container-id-16 div.sk-item::before, #sk-container-id-16 div.sk-parallel-item::before {content: \"\";position: absolute;border-left: 1px solid gray;box-sizing: border-box;top: 0;bottom: 0;left: 50%;z-index: -1;}#sk-container-id-16 div.sk-parallel-item {display: flex;flex-direction: column;z-index: 1;position: relative;background-color: white;}#sk-container-id-16 div.sk-parallel-item:first-child::after {align-self: flex-end;width: 50%;}#sk-container-id-16 div.sk-parallel-item:last-child::after {align-self: flex-start;width: 50%;}#sk-container-id-16 div.sk-parallel-item:only-child::after {width: 0;}#sk-container-id-16 div.sk-dashed-wrapped {border: 1px dashed gray;margin: 0 0.4em 0.5em 0.4em;box-sizing: border-box;padding-bottom: 0.4em;background-color: white;}#sk-container-id-16 div.sk-label label {font-family: monospace;font-weight: bold;display: inline-block;line-height: 1.2em;}#sk-container-id-16 div.sk-label-container {text-align: center;}#sk-container-id-16 div.sk-container {/* jupyter's `normalize.less` sets `[hidden] { display: none; }` but bootstrap.min.css set `[hidden] { display: none !important; }` so we also need the `!important` here to be able to override the default hidden behavior on the sphinx rendered scikit-learn.org. See: https://github.com/scikit-learn/scikit-learn/issues/21755 */display: inline-block !important;position: relative;}#sk-container-id-16 div.sk-text-repr-fallback {display: none;}</style><div id=\"sk-container-id-16\" class=\"sk-top-container\"><div class=\"sk-text-repr-fallback\"><pre>DecisionTreeClassifier()</pre><b>In a Jupyter environment, please rerun this cell to show the HTML representation or trust the notebook. <br />On GitHub, the HTML representation is unable to render, please try loading this page with nbviewer.org.</b></div><div class=\"sk-container\" hidden><div class=\"sk-item\"><div class=\"sk-estimator sk-toggleable\"><input class=\"sk-toggleable__control sk-hidden--visually\" id=\"sk-estimator-id-16\" type=\"checkbox\" checked><label for=\"sk-estimator-id-16\" class=\"sk-toggleable__label sk-toggleable__label-arrow\">DecisionTreeClassifier</label><div class=\"sk-toggleable__content\"><pre>DecisionTreeClassifier()</pre></div></div></div></div></div>"
      ],
      "text/plain": [
       "DecisionTreeClassifier()"
      ]
     },
     "execution_count": 185,
     "metadata": {},
     "output_type": "execute_result"
    }
   ],
   "source": [
    "# train a decision tree classifier\n",
    "dtc=DecisionTreeClassifier()\n",
    "dtc.fit(train_df[features], train_df[target])"
   ]
  },
  {
   "cell_type": "code",
   "execution_count": 186,
   "id": "01e10d9a",
   "metadata": {},
   "outputs": [
    {
     "data": {
      "text/html": [
       "<div>\n",
       "<style scoped>\n",
       "    .dataframe tbody tr th:only-of-type {\n",
       "        vertical-align: middle;\n",
       "    }\n",
       "\n",
       "    .dataframe tbody tr th {\n",
       "        vertical-align: top;\n",
       "    }\n",
       "\n",
       "    .dataframe thead th {\n",
       "        text-align: right;\n",
       "    }\n",
       "</style>\n",
       "<table border=\"1\" class=\"dataframe\">\n",
       "  <thead>\n",
       "    <tr style=\"text-align: right;\">\n",
       "      <th></th>\n",
       "      <th>Patient-Uid</th>\n",
       "      <th>Date</th>\n",
       "      <th>Incident</th>\n",
       "      <th>Days_Since_Last_Visit</th>\n",
       "      <th>Days_Until_Next_Visit</th>\n",
       "      <th>Num_Visits</th>\n",
       "      <th>Visits_Last_30_Days</th>\n",
       "    </tr>\n",
       "  </thead>\n",
       "  <tbody>\n",
       "    <tr>\n",
       "      <th>75493</th>\n",
       "      <td>a0ecaea3-1c7c-11ec-97c5-16262ee38c7f</td>\n",
       "      <td>2018-06-26</td>\n",
       "      <td>DRUG_TYPE_1</td>\n",
       "      <td>-738.0</td>\n",
       "      <td>-627.0</td>\n",
       "      <td>6</td>\n",
       "      <td>2</td>\n",
       "    </tr>\n",
       "    <tr>\n",
       "      <th>89311</th>\n",
       "      <td>a0eac0f5-1c7c-11ec-9bc6-16262ee38c7f</td>\n",
       "      <td>2018-03-21</td>\n",
       "      <td>PRIMARY_DIAGNOSIS</td>\n",
       "      <td>-77.0</td>\n",
       "      <td>0.0</td>\n",
       "      <td>2</td>\n",
       "      <td>1</td>\n",
       "    </tr>\n",
       "    <tr>\n",
       "      <th>29417</th>\n",
       "      <td>a0ed5bc1-1c7c-11ec-bd99-16262ee38c7f</td>\n",
       "      <td>2020-05-22</td>\n",
       "      <td>TARGET DRUG</td>\n",
       "      <td>0.0</td>\n",
       "      <td>107.0</td>\n",
       "      <td>20</td>\n",
       "      <td>1</td>\n",
       "    </tr>\n",
       "    <tr>\n",
       "      <th>93986</th>\n",
       "      <td>a0e62365-1c7c-11ec-8d35-16262ee38c7f</td>\n",
       "      <td>2016-03-30</td>\n",
       "      <td>DRUG_TYPE_9</td>\n",
       "      <td>-1497.0</td>\n",
       "      <td>-1420.0</td>\n",
       "      <td>6</td>\n",
       "      <td>2</td>\n",
       "    </tr>\n",
       "    <tr>\n",
       "      <th>113879</th>\n",
       "      <td>a0dfcc13-1c7c-11ec-867e-16262ee38c7f</td>\n",
       "      <td>2018-05-12</td>\n",
       "      <td>DRUG_TYPE_0</td>\n",
       "      <td>0.0</td>\n",
       "      <td>0.0</td>\n",
       "      <td>1</td>\n",
       "      <td>1</td>\n",
       "    </tr>\n",
       "  </tbody>\n",
       "</table>\n",
       "</div>"
      ],
      "text/plain": [
       "                                 Patient-Uid       Date           Incident  \\\n",
       "75493   a0ecaea3-1c7c-11ec-97c5-16262ee38c7f 2018-06-26        DRUG_TYPE_1   \n",
       "89311   a0eac0f5-1c7c-11ec-9bc6-16262ee38c7f 2018-03-21  PRIMARY_DIAGNOSIS   \n",
       "29417   a0ed5bc1-1c7c-11ec-bd99-16262ee38c7f 2020-05-22        TARGET DRUG   \n",
       "93986   a0e62365-1c7c-11ec-8d35-16262ee38c7f 2016-03-30        DRUG_TYPE_9   \n",
       "113879  a0dfcc13-1c7c-11ec-867e-16262ee38c7f 2018-05-12        DRUG_TYPE_0   \n",
       "\n",
       "        Days_Since_Last_Visit  Days_Until_Next_Visit  Num_Visits  \\\n",
       "75493                  -738.0                 -627.0           6   \n",
       "89311                   -77.0                    0.0           2   \n",
       "29417                     0.0                  107.0          20   \n",
       "93986                 -1497.0                -1420.0           6   \n",
       "113879                    0.0                    0.0           1   \n",
       "\n",
       "        Visits_Last_30_Days  \n",
       "75493                     2  \n",
       "89311                     1  \n",
       "29417                     1  \n",
       "93986                     2  \n",
       "113879                    1  "
      ]
     },
     "execution_count": 186,
     "metadata": {},
     "output_type": "execute_result"
    }
   ],
   "source": [
    "val_df.head(5)"
   ]
  },
  {
   "cell_type": "code",
   "execution_count": 188,
   "id": "aa9230a0",
   "metadata": {},
   "outputs": [
    {
     "name": "stdout",
     "output_type": "stream",
     "text": [
      "Training accuracy: 0.9195986908171235\n",
      "Training F1-score: 0.9210411707927665\n",
      "Training confusion matrix:\n",
      "[[4605   30    0 ...    0    0    0]\n",
      " [ 220 7249    0 ...    0    0    0]\n",
      " [   7   13  312 ...    0    0    0]\n",
      " ...\n",
      " [   5    1    0 ...  122    0    0]\n",
      " [   0    2    0 ...    0   21    0]\n",
      " [   0    0    0 ...    0    0    2]]\n"
     ]
    }
   ],
   "source": [
    "# make predictions on training set\n",
    "train_preds = dtc.predict(train_df[features])\n",
    "train_acc = accuracy_score(train_df[target], train_preds)\n",
    "train_f1 = f1_score(train_df[target], train_preds, average='weighted')\n",
    "train_cm = confusion_matrix(train_df[target], train_preds)\n",
    "\n",
    "print(\"Training accuracy:\", train_acc)\n",
    "print(\"Training F1-score:\", train_f1)\n",
    "print(\"Training confusion matrix:\")\n",
    "print(train_cm)"
   ]
  },
  {
   "cell_type": "code",
   "execution_count": 189,
   "id": "8c4fb61b",
   "metadata": {},
   "outputs": [
    {
     "name": "stdout",
     "output_type": "stream",
     "text": [
      "Validation F1-score: 0.4644465613504464\n"
     ]
    }
   ],
   "source": [
    "# make predictions on validation set\n",
    "val_df[\"Prediction\"] = dtc.predict(val_df[features])\n",
    "\n",
    "# evaluate model using F1-score\n",
    "val_f1 = f1_score(val_df[target], val_df[\"Prediction\"], average='weighted')\n",
    "print(\"Validation F1-score:\", val_f1)"
   ]
  },
  {
   "cell_type": "code",
   "execution_count": 191,
   "id": "5c5b3c48",
   "metadata": {},
   "outputs": [],
   "source": [
    "# generate predictions for the test set\n",
    "test_df[\"Days_Since_Last_Visit\"] = test_df.groupby(\"Patient-Uid\")[\"Date\"].diff().dt.days\n",
    "test_df[\"Days_Since_Last_Visit\"].fillna(0, inplace=True)\n",
    "test_df[\"Days_Until_Next_Visit\"] = test_df.groupby(\"Patient-Uid\")[\"Date\"].diff(-1).dt.days\n",
    "test_df[\"Days_Until_Next_Visit\"].fillna(0, inplace=True)\n",
    "test_df[\"Num_Visits\"] = test_df.groupby(\"Patient-Uid\")[\"Date\"].transform(\"count\")\n",
    "\n",
    "# create a column for the number of visits in the last 30 days for each patient\n",
    "test_df[\"Visits_Last_30_Days\"] = test_df.groupby(\"Patient-Uid\")[\"Date\"].transform(\n",
    "    lambda x: ((x.max() - x) < pd.Timedelta(days=30)).sum()\n",
    ")\n"
   ]
  },
  {
   "cell_type": "code",
   "execution_count": 133,
   "id": "368d5d10",
   "metadata": {},
   "outputs": [],
   "source": [
    "# define the features and target variable\n",
    "features = [\"Days_Since_Last_Visit\", \"Days_Until_Next_Visit\",\"Num_Visits\",\"Visits_Last_30_Days\"]\n",
    "target = \"Incident\""
   ]
  },
  {
   "cell_type": "code",
   "execution_count": 134,
   "id": "b1ab331c",
   "metadata": {},
   "outputs": [
    {
     "data": {
      "text/html": [
       "<style>#sk-container-id-13 {color: black;background-color: white;}#sk-container-id-13 pre{padding: 0;}#sk-container-id-13 div.sk-toggleable {background-color: white;}#sk-container-id-13 label.sk-toggleable__label {cursor: pointer;display: block;width: 100%;margin-bottom: 0;padding: 0.3em;box-sizing: border-box;text-align: center;}#sk-container-id-13 label.sk-toggleable__label-arrow:before {content: \"▸\";float: left;margin-right: 0.25em;color: #696969;}#sk-container-id-13 label.sk-toggleable__label-arrow:hover:before {color: black;}#sk-container-id-13 div.sk-estimator:hover label.sk-toggleable__label-arrow:before {color: black;}#sk-container-id-13 div.sk-toggleable__content {max-height: 0;max-width: 0;overflow: hidden;text-align: left;background-color: #f0f8ff;}#sk-container-id-13 div.sk-toggleable__content pre {margin: 0.2em;color: black;border-radius: 0.25em;background-color: #f0f8ff;}#sk-container-id-13 input.sk-toggleable__control:checked~div.sk-toggleable__content {max-height: 200px;max-width: 100%;overflow: auto;}#sk-container-id-13 input.sk-toggleable__control:checked~label.sk-toggleable__label-arrow:before {content: \"▾\";}#sk-container-id-13 div.sk-estimator input.sk-toggleable__control:checked~label.sk-toggleable__label {background-color: #d4ebff;}#sk-container-id-13 div.sk-label input.sk-toggleable__control:checked~label.sk-toggleable__label {background-color: #d4ebff;}#sk-container-id-13 input.sk-hidden--visually {border: 0;clip: rect(1px 1px 1px 1px);clip: rect(1px, 1px, 1px, 1px);height: 1px;margin: -1px;overflow: hidden;padding: 0;position: absolute;width: 1px;}#sk-container-id-13 div.sk-estimator {font-family: monospace;background-color: #f0f8ff;border: 1px dotted black;border-radius: 0.25em;box-sizing: border-box;margin-bottom: 0.5em;}#sk-container-id-13 div.sk-estimator:hover {background-color: #d4ebff;}#sk-container-id-13 div.sk-parallel-item::after {content: \"\";width: 100%;border-bottom: 1px solid gray;flex-grow: 1;}#sk-container-id-13 div.sk-label:hover label.sk-toggleable__label {background-color: #d4ebff;}#sk-container-id-13 div.sk-serial::before {content: \"\";position: absolute;border-left: 1px solid gray;box-sizing: border-box;top: 0;bottom: 0;left: 50%;z-index: 0;}#sk-container-id-13 div.sk-serial {display: flex;flex-direction: column;align-items: center;background-color: white;padding-right: 0.2em;padding-left: 0.2em;position: relative;}#sk-container-id-13 div.sk-item {position: relative;z-index: 1;}#sk-container-id-13 div.sk-parallel {display: flex;align-items: stretch;justify-content: center;background-color: white;position: relative;}#sk-container-id-13 div.sk-item::before, #sk-container-id-13 div.sk-parallel-item::before {content: \"\";position: absolute;border-left: 1px solid gray;box-sizing: border-box;top: 0;bottom: 0;left: 50%;z-index: -1;}#sk-container-id-13 div.sk-parallel-item {display: flex;flex-direction: column;z-index: 1;position: relative;background-color: white;}#sk-container-id-13 div.sk-parallel-item:first-child::after {align-self: flex-end;width: 50%;}#sk-container-id-13 div.sk-parallel-item:last-child::after {align-self: flex-start;width: 50%;}#sk-container-id-13 div.sk-parallel-item:only-child::after {width: 0;}#sk-container-id-13 div.sk-dashed-wrapped {border: 1px dashed gray;margin: 0 0.4em 0.5em 0.4em;box-sizing: border-box;padding-bottom: 0.4em;background-color: white;}#sk-container-id-13 div.sk-label label {font-family: monospace;font-weight: bold;display: inline-block;line-height: 1.2em;}#sk-container-id-13 div.sk-label-container {text-align: center;}#sk-container-id-13 div.sk-container {/* jupyter's `normalize.less` sets `[hidden] { display: none; }` but bootstrap.min.css set `[hidden] { display: none !important; }` so we also need the `!important` here to be able to override the default hidden behavior on the sphinx rendered scikit-learn.org. See: https://github.com/scikit-learn/scikit-learn/issues/21755 */display: inline-block !important;position: relative;}#sk-container-id-13 div.sk-text-repr-fallback {display: none;}</style><div id=\"sk-container-id-13\" class=\"sk-top-container\"><div class=\"sk-text-repr-fallback\"><pre>DecisionTreeClassifier()</pre><b>In a Jupyter environment, please rerun this cell to show the HTML representation or trust the notebook. <br />On GitHub, the HTML representation is unable to render, please try loading this page with nbviewer.org.</b></div><div class=\"sk-container\" hidden><div class=\"sk-item\"><div class=\"sk-estimator sk-toggleable\"><input class=\"sk-toggleable__control sk-hidden--visually\" id=\"sk-estimator-id-13\" type=\"checkbox\" checked><label for=\"sk-estimator-id-13\" class=\"sk-toggleable__label sk-toggleable__label-arrow\">DecisionTreeClassifier</label><div class=\"sk-toggleable__content\"><pre>DecisionTreeClassifier()</pre></div></div></div></div></div>"
      ],
      "text/plain": [
       "DecisionTreeClassifier()"
      ]
     },
     "execution_count": 134,
     "metadata": {},
     "output_type": "execute_result"
    }
   ],
   "source": [
    "# train a decision tree classifier\n",
    "dtc=DecisionTreeClassifier()\n",
    "dtc.fit(train_df[features], train_df[target])"
   ]
  },
  {
   "cell_type": "code",
   "execution_count": 197,
   "id": "9b7f18a2",
   "metadata": {},
   "outputs": [],
   "source": [
    "# Predict on test set\n",
    "test_preds = dtc.predict_proba(test_df[features])[:, 1]\n",
    "test_df['Label'] = np.where(test_preds > 0.5, 1, 0)\n"
   ]
  },
  {
   "cell_type": "code",
   "execution_count": 198,
   "id": "b3d07424",
   "metadata": {},
   "outputs": [
    {
     "data": {
      "text/html": [
       "<div>\n",
       "<style scoped>\n",
       "    .dataframe tbody tr th:only-of-type {\n",
       "        vertical-align: middle;\n",
       "    }\n",
       "\n",
       "    .dataframe tbody tr th {\n",
       "        vertical-align: top;\n",
       "    }\n",
       "\n",
       "    .dataframe thead th {\n",
       "        text-align: right;\n",
       "    }\n",
       "</style>\n",
       "<table border=\"1\" class=\"dataframe\">\n",
       "  <thead>\n",
       "    <tr style=\"text-align: right;\">\n",
       "      <th></th>\n",
       "      <th>Patient-Uid</th>\n",
       "      <th>Date</th>\n",
       "      <th>Incident</th>\n",
       "      <th>Days_Since_Last_Visit</th>\n",
       "      <th>Days_Until_Next_Visit</th>\n",
       "      <th>Num_Visits</th>\n",
       "      <th>Visits_Last_30_Days</th>\n",
       "      <th>Prediction</th>\n",
       "      <th>Label</th>\n",
       "    </tr>\n",
       "  </thead>\n",
       "  <tbody>\n",
       "    <tr>\n",
       "      <th>0</th>\n",
       "      <td>a0f9e8a9-1c7c-11ec-8d25-16262ee38c7f</td>\n",
       "      <td>2016-12-08</td>\n",
       "      <td>SYMPTOM_TYPE_0</td>\n",
       "      <td>0.0</td>\n",
       "      <td>-678.0</td>\n",
       "      <td>55</td>\n",
       "      <td>1</td>\n",
       "      <td>0</td>\n",
       "      <td>0</td>\n",
       "    </tr>\n",
       "    <tr>\n",
       "      <th>1</th>\n",
       "      <td>a0f9e8a9-1c7c-11ec-8d25-16262ee38c7f</td>\n",
       "      <td>2018-10-17</td>\n",
       "      <td>DRUG_TYPE_0</td>\n",
       "      <td>678.0</td>\n",
       "      <td>320.0</td>\n",
       "      <td>55</td>\n",
       "      <td>1</td>\n",
       "      <td>0</td>\n",
       "      <td>0</td>\n",
       "    </tr>\n",
       "    <tr>\n",
       "      <th>2</th>\n",
       "      <td>a0f9e8a9-1c7c-11ec-8d25-16262ee38c7f</td>\n",
       "      <td>2017-12-01</td>\n",
       "      <td>DRUG_TYPE_2</td>\n",
       "      <td>-320.0</td>\n",
       "      <td>-369.0</td>\n",
       "      <td>55</td>\n",
       "      <td>1</td>\n",
       "      <td>0</td>\n",
       "      <td>0</td>\n",
       "    </tr>\n",
       "    <tr>\n",
       "      <th>3</th>\n",
       "      <td>a0f9e8a9-1c7c-11ec-8d25-16262ee38c7f</td>\n",
       "      <td>2018-12-05</td>\n",
       "      <td>DRUG_TYPE_1</td>\n",
       "      <td>369.0</td>\n",
       "      <td>396.0</td>\n",
       "      <td>55</td>\n",
       "      <td>1</td>\n",
       "      <td>0</td>\n",
       "      <td>0</td>\n",
       "    </tr>\n",
       "    <tr>\n",
       "      <th>4</th>\n",
       "      <td>a0f9e8a9-1c7c-11ec-8d25-16262ee38c7f</td>\n",
       "      <td>2017-11-04</td>\n",
       "      <td>SYMPTOM_TYPE_0</td>\n",
       "      <td>-396.0</td>\n",
       "      <td>-186.0</td>\n",
       "      <td>55</td>\n",
       "      <td>1</td>\n",
       "      <td>0</td>\n",
       "      <td>0</td>\n",
       "    </tr>\n",
       "  </tbody>\n",
       "</table>\n",
       "</div>"
      ],
      "text/plain": [
       "                            Patient-Uid       Date        Incident  \\\n",
       "0  a0f9e8a9-1c7c-11ec-8d25-16262ee38c7f 2016-12-08  SYMPTOM_TYPE_0   \n",
       "1  a0f9e8a9-1c7c-11ec-8d25-16262ee38c7f 2018-10-17     DRUG_TYPE_0   \n",
       "2  a0f9e8a9-1c7c-11ec-8d25-16262ee38c7f 2017-12-01     DRUG_TYPE_2   \n",
       "3  a0f9e8a9-1c7c-11ec-8d25-16262ee38c7f 2018-12-05     DRUG_TYPE_1   \n",
       "4  a0f9e8a9-1c7c-11ec-8d25-16262ee38c7f 2017-11-04  SYMPTOM_TYPE_0   \n",
       "\n",
       "   Days_Since_Last_Visit  Days_Until_Next_Visit  Num_Visits  \\\n",
       "0                    0.0                 -678.0          55   \n",
       "1                  678.0                  320.0          55   \n",
       "2                 -320.0                 -369.0          55   \n",
       "3                  369.0                  396.0          55   \n",
       "4                 -396.0                 -186.0          55   \n",
       "\n",
       "   Visits_Last_30_Days  Prediction  Label  \n",
       "0                    1           0      0  \n",
       "1                    1           0      0  \n",
       "2                    1           0      0  \n",
       "3                    1           0      0  \n",
       "4                    1           0      0  "
      ]
     },
     "execution_count": 198,
     "metadata": {},
     "output_type": "execute_result"
    }
   ],
   "source": [
    "test_df.head(5)"
   ]
  },
  {
   "cell_type": "code",
   "execution_count": 196,
   "id": "37aca0ea",
   "metadata": {},
   "outputs": [
    {
     "data": {
      "text/plain": [
       "array([0, 1])"
      ]
     },
     "execution_count": 196,
     "metadata": {},
     "output_type": "execute_result"
    }
   ],
   "source": [
    "test_df[\"Prediction\"].unique()"
   ]
  },
  {
   "cell_type": "code",
   "execution_count": 199,
   "id": "28e36065",
   "metadata": {},
   "outputs": [],
   "source": [
    "# evaluate the model on the validation set\n",
    "val_df[\"Days_Since_Last_Visit\"] = val_df.groupby(\"Patient-Uid\")[\"Date\"].diff().dt.days\n",
    "val_df[\"Days_Since_Last_Visit\"].fillna(0, inplace=True)\n",
    "val_df[\"Days_Until_Next_Visit\"] = val_df.groupby(\"Patient-Uid\")[\"Date\"].diff(-1).dt.days\n",
    "val_df[\"Days_Until_Next_Visit\"].fillna(0, inplace=True)\n",
    "val_df[\"Prediction\"] = dtc.predict(val_df[features])\n",
    "# Predict on test set\n",
    "test_preds = dtc.predict_proba(val_df[features])[:, 1]\n",
    "val_df['Label'] = np.where(test_preds > 0.5, 1, 0)\n"
   ]
  },
  {
   "cell_type": "code",
   "execution_count": 200,
   "id": "31d27356",
   "metadata": {},
   "outputs": [
    {
     "name": "stdout",
     "output_type": "stream",
     "text": [
      "Validation F1-score: 0.350891805183519\n"
     ]
    }
   ],
   "source": [
    "f1 = f1_score(val_df[target], val_df[\"Prediction\"],average='weighted')\n",
    "print(\"Validation F1-score:\", f1)"
   ]
  },
  {
   "cell_type": "code",
   "execution_count": 202,
   "id": "78bc8297",
   "metadata": {},
   "outputs": [],
   "source": [
    "# save the final predictions to a csv file\n",
    "val_df[[\"Patient-Uid\", \"Label\"]].to_csv(\"final_submission.csv\", index=False)"
   ]
  },
  {
   "cell_type": "code",
   "execution_count": 203,
   "id": "c45ff362",
   "metadata": {},
   "outputs": [],
   "source": [
    "df2=pd.read_csv(\"final_submission.csv\")"
   ]
  },
  {
   "cell_type": "code",
   "execution_count": 204,
   "id": "12311e53",
   "metadata": {},
   "outputs": [
    {
     "data": {
      "text/html": [
       "<div>\n",
       "<style scoped>\n",
       "    .dataframe tbody tr th:only-of-type {\n",
       "        vertical-align: middle;\n",
       "    }\n",
       "\n",
       "    .dataframe tbody tr th {\n",
       "        vertical-align: top;\n",
       "    }\n",
       "\n",
       "    .dataframe thead th {\n",
       "        text-align: right;\n",
       "    }\n",
       "</style>\n",
       "<table border=\"1\" class=\"dataframe\">\n",
       "  <thead>\n",
       "    <tr style=\"text-align: right;\">\n",
       "      <th></th>\n",
       "      <th>Patient-Uid</th>\n",
       "      <th>Label</th>\n",
       "    </tr>\n",
       "  </thead>\n",
       "  <tbody>\n",
       "    <tr>\n",
       "      <th>0</th>\n",
       "      <td>a0ecaea3-1c7c-11ec-97c5-16262ee38c7f</td>\n",
       "      <td>0</td>\n",
       "    </tr>\n",
       "    <tr>\n",
       "      <th>1</th>\n",
       "      <td>a0eac0f5-1c7c-11ec-9bc6-16262ee38c7f</td>\n",
       "      <td>0</td>\n",
       "    </tr>\n",
       "    <tr>\n",
       "      <th>2</th>\n",
       "      <td>a0ed5bc1-1c7c-11ec-bd99-16262ee38c7f</td>\n",
       "      <td>0</td>\n",
       "    </tr>\n",
       "    <tr>\n",
       "      <th>3</th>\n",
       "      <td>a0e62365-1c7c-11ec-8d35-16262ee38c7f</td>\n",
       "      <td>0</td>\n",
       "    </tr>\n",
       "    <tr>\n",
       "      <th>4</th>\n",
       "      <td>a0dfcc13-1c7c-11ec-867e-16262ee38c7f</td>\n",
       "      <td>0</td>\n",
       "    </tr>\n",
       "  </tbody>\n",
       "</table>\n",
       "</div>"
      ],
      "text/plain": [
       "                            Patient-Uid  Label\n",
       "0  a0ecaea3-1c7c-11ec-97c5-16262ee38c7f      0\n",
       "1  a0eac0f5-1c7c-11ec-9bc6-16262ee38c7f      0\n",
       "2  a0ed5bc1-1c7c-11ec-bd99-16262ee38c7f      0\n",
       "3  a0e62365-1c7c-11ec-8d35-16262ee38c7f      0\n",
       "4  a0dfcc13-1c7c-11ec-867e-16262ee38c7f      0"
      ]
     },
     "execution_count": 204,
     "metadata": {},
     "output_type": "execute_result"
    }
   ],
   "source": [
    "df2.head(5)"
   ]
  },
  {
   "cell_type": "code",
   "execution_count": null,
   "id": "edfc1647",
   "metadata": {},
   "outputs": [],
   "source": []
  }
 ],
 "metadata": {
  "kernelspec": {
   "display_name": "Python 3 (ipykernel)",
   "language": "python",
   "name": "python3"
  },
  "language_info": {
   "codemirror_mode": {
    "name": "ipython",
    "version": 3
   },
   "file_extension": ".py",
   "mimetype": "text/x-python",
   "name": "python",
   "nbconvert_exporter": "python",
   "pygments_lexer": "ipython3",
   "version": "3.10.9"
  }
 },
 "nbformat": 4,
 "nbformat_minor": 5
}
